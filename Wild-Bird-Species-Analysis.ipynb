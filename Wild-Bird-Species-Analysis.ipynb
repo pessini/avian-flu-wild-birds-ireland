{
 "cells": [
  {
   "cell_type": "markdown",
   "id": "6fcadcb5",
   "metadata": {},
   "source": [
    "<img title=\"GitHub Octocat\" src='./img/Octocat.jpg' style='height: 60px; padding-right: 15px' alt=\"Octocat\" align=\"left\"> This notebook is part of a GitHub repository: https://github.com/pessini/avian-flu-wild-birds-ireland \n",
    "<br>MIT Licensed\n",
    "<br>Author: Leandro Pessini"
   ]
  },
  {
   "cell_type": "markdown",
   "id": "f5e893fb",
   "metadata": {},
   "source": [
    "# <p style=\"font-size:100%; text-align:left; color:#444444;\">Spatial analysis on the occurrence of Bird Flu in Ireland</p>"
   ]
  },
  {
   "cell_type": "markdown",
   "id": "1dab189c",
   "metadata": {},
   "source": [
    "<img title=\"Wild Geese\" src=\"img/wild-geese-pixabay_1149609_1920.jpeg\" style=\"height:400px; border-radius: 5px\" alt=\"\">"
   ]
  },
  {
   "cell_type": "markdown",
   "id": "08217503",
   "metadata": {},
   "source": [
    "---\n",
    "# <p style=\"font-size:100%; text-align:left; color:#444444;\">Contents:</p>\n",
    "\n",
    "* [1. Introduction](#1)\n",
    "* [2. Data Visualisation](#2)\n",
    "    * [2.1 Proportion of captured birds with avian flu](#2.1)\n",
    "    * [2.2 What species have shown to be the most affected by Bird Flu?](#2.2)\n",
    "    * [2.3 What are the most frequent locations where captured birds have been targeted with Avian Flu?](#2.3)\n",
    "    * [2.4 What are the months with the highest proportion of infected birds?](#2.4)\n",
    "    * [2.5 Wild birds with avian flu have increased or have decreased in the past decade?](#2.5)\n",
    "* [3. Geospatial data](#3)\n",
    "    * [3.1 What is the proportion of birds targeted with Avian Flu on each Council / County?](#3.1)\n",
    "    * [3.2 Which areas present a statistically significant presence of Bird Flu?](#3.2)\n",
    "* [4. Conclusion](#4)"
   ]
  },
  {
   "cell_type": "markdown",
   "id": "9b13e609",
   "metadata": {},
   "source": [
    "<a id=\"1\"></a>\n",
    "# <p style=\"font-size:100%; text-align:left; color:#444444;\">1- Introduction</p>"
   ]
  },
  {
   "cell_type": "markdown",
   "id": "42699d6c",
   "metadata": {},
   "source": [
    "<img title=\"Department of Agriculture, Food and the Marine\" src=\"img/department-of-agriculture-food-and-the-marine.png\" alt=\"Department of Agriculture, Food and the Marine\" align=\"right\" style='height:150px; padding: 15px'> This analysis will investigate a dataset provided by Ireland's [Department of Agriculture, Food and the Marine](https://data.gov.ie/dataset/h5n1-wild-bird-species-identification) which contains the locations of bird species captured in Ireland from 1980-09-01 to 2020-01-27 and wild birds that are targeted for the H5N1 strain of avian flu.\n",
    "\n",
    "According to the dataset's description: Avian influenza or **\"Bird Flu\"** is a contagious and often fatal viral disease of birds. Wild birds, particularly wild migratory water birds are considered to be the main reservoir of avian influenza viruses. There is a constant risk of avian influenza being introduced into Ireland from wild birds particularly from November onwards each year as this is when migratory birds arrive and congregate on wetlands, mixing with resident species.\n",
    "\n",
    "To complement this risk analysis, a web scraping was performed to aggregate data from [BirdWatch Ireland](https://birdwatchireland.ie/) and spatial data about the administrative areas were provided by [Ordinance Survey Ireland](https://data-osi.opendata.arcgis.com/).\n",
    "\n",
    "The notebook along with all data collection and preprocessing can be found [here](https://pessini.github.io/avian-flu-wild-birds-ireland/Datasets.html).\n",
    "\n",
    "## Objective\n",
    "\n",
    "The **aim** of this report is to map how this disease spread throughout the island and provide insights on possible spots and species that might need extra attention from the scientists who investigate this constant threat to resident birds.\n",
    "\n",
    "## Questions\n",
    "\n",
    "- What species have shown to be the most affected with Bird Flu?\n",
    "- What are the most frequent locations where captured birds have been detected with Avian Flu?\n",
    "- November is the month with the highest presence as mentioned? What are the months with the highest proportion of infected birds?\n",
    "- The percentage of infected birds have increased during the years?\n",
    "- What is the proportion of birds targeted with Avian Flu on each Council / County?\n",
    "- Which areas present statistically significant incidence of Bird Flu?"
   ]
  },
  {
   "cell_type": "code",
   "execution_count": null,
   "id": "adf4b5d9",
   "metadata": {},
   "outputs": [],
   "source": [
    "# Libraries\n",
    "import warnings\n",
    "warnings.simplefilter(action='ignore', category=FutureWarning)\n",
    "\n",
    "import numpy as np\n",
    "import pandas as pd\n",
    "import seaborn as sns\n",
    "import matplotlib\n",
    "import matplotlib.pyplot as plt\n",
    "import matplotlib.lines as lines\n",
    "from matplotlib.lines import Line2D\n",
    "from matplotlib import cm\n",
    "import matplotlib.ticker as mtick\n",
    "from matplotlib.offsetbox import AnnotationBbox, OffsetImage\n",
    "import matplotlib.patches as mpatches\n",
    "\n",
    "import json\n",
    "from pathlib import Path\n",
    "\n",
    "%matplotlib inline\n",
    "\n",
    "import geopandas as gpd\n",
    "from shapely.geometry import Point\n",
    "from shapely.geometry import Polygon\n",
    "import folium\n",
    "from folium.plugins import MarkerCluster\n",
    "from folium.plugins import FastMarkerCluster\n",
    "from folium.plugins import HeatMap\n",
    "import branca.colormap as cm\n",
    "from PIL import Image\n",
    "\n",
    "import libpysal as lps\n",
    "import esda\n",
    "from esda.getisord import G_Local\n",
    "\n",
    "pd.options.mode.chained_assignment = None  # default='warn'"
   ]
  },
  {
   "cell_type": "code",
   "execution_count": null,
   "id": "7fc1461e",
   "metadata": {},
   "outputs": [],
   "source": [
    "# Loading dataset\n",
    "bird_flu = pd.read_pickle(\"./data/bird-flu.pkl\")"
   ]
  },
  {
   "cell_type": "markdown",
   "id": "0b18fe42",
   "metadata": {},
   "source": [
    "<a id=\"2\"></a>\n",
    "# <p style=\"font-size:100%; text-align:left; color:#444444;\">2- Data Visualisation</p>"
   ]
  },
  {
   "cell_type": "markdown",
   "id": "bed1da63",
   "metadata": {},
   "source": [
    "### Colour Palette"
   ]
  },
  {
   "cell_type": "code",
   "execution_count": null,
   "id": "a35677e3",
   "metadata": {},
   "outputs": [],
   "source": [
    "sns.palplot(['#004D44','#A39161','#F6F6F2','#FBFBFB']);"
   ]
  },
  {
   "cell_type": "markdown",
   "id": "7e5d4840",
   "metadata": {},
   "source": [
    "<a id=\"2.1\"></a>\n",
    "## <p style=\"font-size:100%; text-align:left; color:#444444;\">Proportion of captured birds with avian flu</p>"
   ]
  },
  {
   "cell_type": "code",
   "execution_count": null,
   "id": "374c2ad3",
   "metadata": {},
   "outputs": [],
   "source": [
    "x=bird_flu.groupby(['target_H5_HPAI'])['target_H5_HPAI'].count()\n",
    "y=len(bird_flu)\n",
    "r=((x/y)).round(2)\n",
    "ratio = pd.DataFrame(r).T\n",
    "\n",
    "fig, ax = plt.subplots(1,1,figsize=(6.5, 1.8),dpi=150)\n",
    "background_color = \"#F6F6F2\"\n",
    "fig.patch.set_facecolor(background_color)\n",
    "ax.set_facecolor(background_color) \n",
    "\n",
    "ax.barh(ratio.index, ratio[1.0], color='#004D44', alpha=0.9, ec=background_color, label='Infected Birds')\n",
    "ax.barh(ratio.index, ratio[0.0], left=ratio[1.0], color='#A39161', alpha=0.9,ec=background_color, label='Healthy Birds')\n",
    "\n",
    "ax.set_xlim(0, 1)\n",
    "ax.set_xticks([])\n",
    "ax.set_yticks([])\n",
    "ax.legend().set_visible(False)\n",
    "for s in ['top', 'left', 'right', 'bottom']:\n",
    "    ax.spines[s].set_visible(False)\n",
    "\n",
    "for i in ratio.index:\n",
    "    ax.annotate(f\"{int(ratio[1.0][i]*100)}%\", xy=(ratio[1.0][i]/2, i),va = 'center', ha='center',fontsize=20, fontweight='light', fontfamily='serif',color='white')\n",
    "    ax.annotate(\"Bird Flu\", xy=(ratio[1.0][i]/2, -0.15),va = 'center', ha='center',fontsize=12, fontweight='light', fontfamily='serif',color='white')\n",
    "\n",
    "for i in ratio.index:\n",
    "    ax.annotate(f\"{int(ratio[0.0][i]*100)}%\", xy=(ratio[1.0][i]+ratio[0.0][i]/2, i),va = 'center', ha='center',fontsize=20, fontweight='light', fontfamily='serif',color='white')\n",
    "    ax.annotate(\"Healthy birds\", xy=(ratio[1.0][i]+ratio[0.0][i]/2, -0.15),va = 'center', ha='center',fontsize=12, fontweight='light', fontfamily='serif',color='white')\n",
    "\n",
    "subtitle = 'From 1980 to 2020, {:,} birds were captured in Ireland \\nand most are not targeted for the H5N1 strain'.format(y)\n",
    "fig.text(0.125,1.1,'How many wild birds were infected with avian flu?', fontfamily='serif',fontsize=14, fontweight='bold', color='#444444')\n",
    "fig.text(0.125,0.915,subtitle,fontfamily='serif',fontsize=10, color='#444444')  \n",
    "plt.show()"
   ]
  },
  {
   "cell_type": "code",
   "execution_count": null,
   "id": "0b44b239",
   "metadata": {},
   "outputs": [],
   "source": [
    "# Selecting only infected birds\n",
    "infected_birds = bird_flu[bird_flu['target_H5_HPAI'] == 1]"
   ]
  },
  {
   "cell_type": "code",
   "execution_count": null,
   "id": "90f9b07f",
   "metadata": {},
   "outputs": [],
   "source": [
    "infected_birds.info()"
   ]
  },
  {
   "cell_type": "markdown",
   "id": "27133b9b",
   "metadata": {},
   "source": [
    "<a id=\"2.2\"></a>\n",
    "## <p style=\"font-size:100%; text-align:left; color:#444444;\">What species have shown to be the most affected by Bird Flu?</p>"
   ]
  },
  {
   "cell_type": "code",
   "execution_count": null,
   "id": "37c1d6e3",
   "metadata": {},
   "outputs": [],
   "source": [
    "infected_species = infected_birds.groupby('Common_Name').size().sort_values(ascending=False)"
   ]
  },
  {
   "cell_type": "code",
   "execution_count": null,
   "id": "82204640",
   "metadata": {},
   "outputs": [],
   "source": [
    "infected_species.sum()"
   ]
  },
  {
   "cell_type": "code",
   "execution_count": null,
   "id": "274be16e",
   "metadata": {},
   "outputs": [],
   "source": [
    "def offset_img(x, y, img, ax, zoom, offset, pad=0.4):\n",
    "    '''For adding  .png images to the graph.\n",
    "    source: https://stackoverflow.com/questions/61971090/how-can-i-add-images-to-bars-in-axes-matplotlib'''\n",
    "\n",
    "    #img = plt.imread(img)\n",
    "    im = OffsetImage(img, zoom=zoom)\n",
    "    im.image.axes = ax\n",
    "    x_offset = offset\n",
    "    ab = AnnotationBbox(im, (x, y), xybox=(x_offset, 0), frameon=False,\n",
    "                        xycoords='data', \n",
    "                        boxcoords=\"offset points\", \n",
    "                        pad=pad)\n",
    "    ax.add_artist(ab)"
   ]
  },
  {
   "cell_type": "code",
   "execution_count": null,
   "id": "0601a8e7",
   "metadata": {},
   "outputs": [],
   "source": [
    "fig, ax = plt.subplots(1,1, figsize=(8, 6),dpi=150)\n",
    "\n",
    "background_color = \"#F6F6F2\"\n",
    "fig.patch.set_facecolor(background_color) # figure background color\n",
    "ax.set_facecolor(background_color) \n",
    "\n",
    "# Top infected locations \n",
    "data = infected_species[:15]\n",
    "\n",
    "high_c = '#004D44'\n",
    "color_map = ['#A39161' for _ in range(len(data))]\n",
    "color_map[0] = color_map[1] = color_map[2] = color_map[3] = high_c # color highlight\n",
    "\n",
    "#highlight\n",
    "ax.barh(data.loc[['Black-headed Gull', 'Mute Swan', 'Gray Heron', 'Little Egret']].index, data.iloc[:4], \n",
    "       edgecolor='darkgray',color=color_map, alpha=0.9, picker=True)\n",
    "# actual\n",
    "ax.barh(data.index, data, \n",
    "       edgecolor='white',color=color_map, alpha=0.3)\n",
    "\n",
    "# base color text\n",
    "for i in range(4,len(data)):\n",
    "    ax.annotate(list(data)[i], xy=(data[i]-(data[i]*0.05), i),\n",
    "                va = 'center', ha='right', fontweight='light',\n",
    "                fontfamily='serif',fontsize=10, color='#FBFBFB')\n",
    "\n",
    "# diff color text\n",
    "for i in range(4):\n",
    "    ax.annotate(list(data)[i], xy=(data[i]-(data[i]*0.05), i), \n",
    "                va = 'center', ha='right',fontweight='bold',\n",
    "                fontsize=13, color='#FBFBFB')\n",
    "\n",
    "ax.axes.get_xaxis().set_ticks([])\n",
    "ax.invert_yaxis()\n",
    "\n",
    "# Black-headed Gull\n",
    "image = bird_flu.loc[bird_flu['Common_Name'] == 'Black-headed Gull', 'Image'].head(1)\n",
    "image = image.item()\n",
    "offset_img(x=250, y=9, img=image, ax=ax, zoom=0.14, offset=0)\n",
    "\n",
    "plt.annotate('',xy=(310, 7.3), xytext=(325, 0.4), \n",
    "             arrowprops=dict(facecolor='#444444',arrowstyle=\"-\",connectionstyle=\"angle3,angleA=90,angleB=0\"), \n",
    "             fontsize=10,fontfamily='monospace',ha='center', color='#A39161')\n",
    "\n",
    "for s in ['top', 'bottom', 'right']:\n",
    "    ax.spines[s].set_visible(False)\n",
    "\n",
    "ax.text(-100,-2.0,'Species captured where Avian Flu has been detected',\n",
    "        fontfamily='serif',fontsize=14,fontweight='bold',color='#444444')\n",
    "\n",
    "ax.text(-100, -1.4, \n",
    "        f'Showing {len(data)} out of {len(infected_species)} species with the highest Avian Flu incidence', \n",
    "        fontfamily='serif', fontsize=10, color='#444444')\n",
    "\n",
    "\n",
    "plt.show()"
   ]
  },
  {
   "cell_type": "markdown",
   "id": "501bc7ff",
   "metadata": {},
   "source": [
    "**Birds Species with more than 200 Bird Flu cases:**\n",
    "- Black-headed Gull: 332 https://birdwatchireland.ie/birds/black-headed-gull/\n",
    "- Mute Swan: 273 https://birdwatchireland.ie/birds/mute-swan/\n",
    "- Gray Heron: 259 https://birdwatchireland.ie/birds/grey-heron/\n",
    "- Little Egret: 227 https://birdwatchireland.ie/birds/little-egret/\n",
    "\n",
    "**All 4 species** with the highest number of bird flu occurrences **are resident species** which indicates that migratory birds carrying the virus and mixing with local birds play an important role in spreading the disease."
   ]
  },
  {
   "cell_type": "markdown",
   "id": "6ca6113d",
   "metadata": {},
   "source": [
    "<a id=\"2.3\"></a>\n",
    "## <p style=\"font-size:100%; text-align:left; color:#444444;\">What are the most frequent locations where captured birds have been targeted with Avian Flu?</p>"
   ]
  },
  {
   "cell_type": "code",
   "execution_count": null,
   "id": "2cb72adb",
   "metadata": {},
   "outputs": [],
   "source": [
    "top_infected_locations = infected_birds.groupby('Locality').size().sort_values(ascending=False)[:10]"
   ]
  },
  {
   "cell_type": "code",
   "execution_count": null,
   "id": "6aee2bdf",
   "metadata": {},
   "outputs": [],
   "source": [
    "top_infected_locations.index"
   ]
  },
  {
   "cell_type": "code",
   "execution_count": null,
   "id": "d53b0e99-270a-4898-9955-571ab89adc65",
   "metadata": {},
   "outputs": [],
   "source": [
    "fig, ax = plt.subplots(1,1, figsize=(8, 6),dpi=150)\n",
    "\n",
    "background_color = '#F6F6F2'\n",
    "fig.patch.set_facecolor(background_color) # figure background color\n",
    "ax.set_facecolor(background_color) \n",
    "\n",
    "# Top infected locations \n",
    "data = top_infected_locations\n",
    "\n",
    "not_dublin = '#A39161'\n",
    "color_map = ['#004D44' for _ in range(len(data))]\n",
    "color_map[2] = color_map[6] = color_map[9] = not_dublin # color highlight\n",
    "\n",
    "ax.barh(data.index, data, \n",
    "       edgecolor='white',color=color_map, alpha=0.8)\n",
    "\n",
    "# diff color text\n",
    "for i in range(10):\n",
    "    ax.annotate(list(data)[i], \n",
    "                   xy=(data[i]-(data[i]*0.05), i), \n",
    "                   va = 'center', ha='right', fontweight='bold',fontfamily='serif',fontsize=10, color='#FBFBFB')\n",
    "\n",
    "ax.axes.get_xaxis().set_ticks([])\n",
    "ax.invert_yaxis()\n",
    "\n",
    "for s in ['top', 'bottom', 'right']:\n",
    "    ax.spines[s].set_visible(False)\n",
    "\n",
    "ax.text(-60,-2.0,'Top 10 Locations where Avian Flu is most frequent',\n",
    "        fontfamily='serif',fontsize=14,fontweight='bold',color='#444444')\n",
    "ax.text(-60, -1.5, \n",
    "        '7 out of 10 locations with the highest presence of birds with avian flu are in Dublin.', \n",
    "        fontfamily='serif',fontsize=10, color='#444444')\n",
    "\n",
    "custom_lines = [Line2D([0], [0], color='#004D44', lw=6),\n",
    "                Line2D([0], [0], color=not_dublin, lw=6)]\n",
    "ax.legend(custom_lines, ['Dublin', 'Other County'], \n",
    "          loc='lower right', facecolor='#F6F6F2', \n",
    "          edgecolor='#444444', borderpad=0.7)\n",
    "\n",
    "plt.show()"
   ]
  },
  {
   "cell_type": "markdown",
   "id": "8e51e3e9",
   "metadata": {},
   "source": [
    "<a id=\"2.4\"></a>\n",
    "## <p style=\"font-size:100%; text-align:left; color:#444444;\">What are the months with the highest proportion of infected birds?</p>"
   ]
  },
  {
   "cell_type": "code",
   "execution_count": null,
   "id": "748a003d",
   "metadata": {},
   "outputs": [],
   "source": [
    "def monthFormatter(month):\n",
    "    \"\"\"\n",
    "    Take the representative number of a month and return its abbreviation\n",
    "    \"\"\"\n",
    "    switcher = {\n",
    "        1: \"Jan\",\n",
    "        2: \"Feb\",\n",
    "        3: \"Mar\",\n",
    "        4: \"Apr\",\n",
    "        5: \"May\",\n",
    "        6: \"Jun\",\n",
    "        7: \"Jul\",\n",
    "        8: \"Aug\",\n",
    "        9: \"Sep\",\n",
    "        10: \"Oct\",\n",
    "        11: \"Nov\",\n",
    "        12: \"Dec\"\n",
    "    }\n",
    "    \n",
    "    return switcher.get(month, \"Invalid month\")"
   ]
  },
  {
   "cell_type": "code",
   "execution_count": null,
   "id": "113478e5",
   "metadata": {},
   "outputs": [],
   "source": [
    "total_infected_bymonth = bird_flu.groupby(['Month', 'target_H5_HPAI']).size().rename(\"count\")\n",
    "prop_infected_bymonth = round(total_infected_bymonth / total_infected_bymonth.groupby(level=0).sum(),2)\n",
    "prop_infected_bymonth = prop_infected_bymonth.iloc[1::2].reset_index(level='target_H5_HPAI', drop=True)"
   ]
  },
  {
   "cell_type": "code",
   "execution_count": null,
   "id": "eb3d7257",
   "metadata": {},
   "outputs": [],
   "source": [
    "fig, ax = plt.subplots(1,1, figsize=(10, 6),dpi=150)\n",
    "\n",
    "data = prop_infected_bymonth\n",
    "\n",
    "background_color = \"#F6F6F2\"\n",
    "fig.patch.set_facecolor(background_color) # figure background color\n",
    "ax.set_facecolor(background_color)\n",
    "color_map = ['#004D44' if value > 0.15 else '#A39161' for index, value in data.items()]\n",
    "\n",
    "np.arange(len(data.index))\n",
    "\n",
    "# # MONTH OVERVIEW\n",
    "ax.bar(np.arange(len(data.index)), data, zorder=1, color=color_map, width=0.1)\n",
    "ax.scatter(np.arange(len(data.index)), data, zorder=1,s=100, color=color_map)\n",
    "\n",
    "ax.set_xticks(np.arange(len(data.index)))\n",
    "ax.set_xticklabels(map(monthFormatter,list(data.index)),rotation=0)\n",
    "ax.yaxis.set_major_formatter(mtick.PercentFormatter(1.0, decimals=0))\n",
    "\n",
    "ax.text(-1, 0.35, 'Monthly proportion of Infected Birds captured', fontsize=14, fontweight='bold', \n",
    "        fontfamily='serif', color='#444444')\n",
    "ax.text(-1, 0.329, \n",
    "        'March, June, August, November and December are the months \\nwith the highest proportion of captured birds with avian flu.', \n",
    "        fontfamily='serif',fontsize=10, color='#444444')\n",
    "\n",
    "plt.hlines(y=0.15,xmin=0,xmax=12,lw=1,color='#444444')\n",
    "plt.annotate('> 15% infected birds', xy=(12, 0.15), xytext=(10, 0.32), \n",
    "             arrowprops=dict(facecolor='#444444',arrowstyle=\"->\",connectionstyle=\"angle3,angleA=0,angleB=90\"), \n",
    "             fontsize=10,fontweight='bold',fontfamily='serif',ha='center', color='#004D44')\n",
    "\n",
    "for s in ['top', 'right']:\n",
    "    ax.spines[s].set_visible(False)\n",
    "\n",
    "# plt.show()"
   ]
  },
  {
   "cell_type": "markdown",
   "id": "c6d1ef61",
   "metadata": {},
   "source": [
    "<a id=\"2.5\"></a>\n",
    "## <p style=\"font-size:100%; text-align:left; color:#444444;\">Wild birds with avian flu have increased or have decreased in the past decade?</p>"
   ]
  },
  {
   "cell_type": "code",
   "execution_count": null,
   "id": "dcdd55d5",
   "metadata": {},
   "outputs": [],
   "source": [
    "total_infected_byYear = bird_flu.groupby(['Year', 'target_H5_HPAI']).size().rename(\"count\")\n",
    "prop_infected_byYear = round(total_infected_byYear / total_infected_byYear.groupby(level=0).sum(),2)\n",
    "prop_infected_byYear = prop_infected_byYear.iloc[::2].reset_index(level='target_H5_HPAI', drop=True).sort_index(ascending=True).filter(items=range(2009,2020), axis=0)"
   ]
  },
  {
   "cell_type": "code",
   "execution_count": null,
   "id": "27dba2e7",
   "metadata": {},
   "outputs": [],
   "source": [
    "fig, ax = plt.subplots(1,1, figsize=(10, 6),dpi=150)\n",
    "background_color = \"#F6F6F2\"\n",
    "fig.patch.set_facecolor(background_color) # figure background color\n",
    "\n",
    "data = prop_infected_byYear\n",
    "data.index = data.index.map(str)\n",
    "ax.set_facecolor(background_color)\n",
    "\n",
    "ax.plot(data.index, data, color='#004D44', linewidth=2)\n",
    "ax.scatter(data.index, data, zorder=1,s=100, color='#004D44')\n",
    "\n",
    "ax.set_xticks(np.arange(len(data)))\n",
    "ax.set_xticklabels(data.index,rotation=0)\n",
    "ax.yaxis.set_major_formatter(mtick.PercentFormatter(1.0, decimals=0))\n",
    "\n",
    "plt.annotate('2015\\n{:.0%} infected birds'.format(data['2015']), xy=(5.7, 0.23), xytext=(3.5, 0.20), \n",
    "             arrowprops=dict(facecolor='#444444',arrowstyle=\"->\",connectionstyle=\"angle3,angleA=90,angleB=0\"), \n",
    "             fontsize=10,fontfamily='serif',ha='center', color='#A39161')\n",
    "\n",
    "for s in [\"right\", \"top\"]:\n",
    "    ax.spines[s].set_visible(False)\n",
    "    \n",
    "ax.text(-1, 0.26, '% of Infected Birds captured: 10-Years-Overview', fontsize=14, \n",
    "         fontweight='bold', fontfamily='serif', color='#444444')\n",
    "ax.text(-1, 0.248, \n",
    "        'Captured birds with Avian Flu from 2009 to 2019.\\nAfter 2012, the number of infected birds have been increasing until reach its peak in 2015.', \n",
    "        fontsize=10, fontfamily='serif', color='#444444')\n",
    "\n",
    "plt.xticks(rotation=0)\n",
    "plt.show()"
   ]
  },
  {
   "cell_type": "markdown",
   "id": "3b90006f",
   "metadata": {},
   "source": [
    "<a id=\"3\"></a>\n",
    "# <p style=\"font-size:100%; text-align:left; color:#444444;\">3- Geospatial data</p>"
   ]
  },
  {
   "cell_type": "code",
   "execution_count": null,
   "id": "304c5cf0",
   "metadata": {},
   "outputs": [],
   "source": [
    "import topojson as tp"
   ]
  },
  {
   "cell_type": "code",
   "execution_count": null,
   "id": "9645d483",
   "metadata": {},
   "outputs": [],
   "source": [
    "admin_areas_json = 'data/Administrative_Areas_Ireland.json'\n",
    "try:\n",
    "    f = open(admin_areas_json, 'rb')\n",
    "    with f:\n",
    "        admin_areas = gpd.read_file(f, driver='GeoJSON')\n",
    "except FileNotFoundError:\n",
    "    print(f\"File {admin_areas_json} does not exist.\")"
   ]
  },
  {
   "cell_type": "code",
   "execution_count": null,
   "id": "6ae547c7",
   "metadata": {},
   "outputs": [],
   "source": [
    "# TOLERANCE = 0.1\n",
    "# admin_areas[\"geometry\"] = admin_areas.geometry.simplify(tolerance=TOLERANCE,preserve_topology=True)\n",
    "# ALERT: the result contains gaps between the polygons.\n",
    "# Using a topology aware simplification algorithm from topojson package to avoid this."
   ]
  },
  {
   "cell_type": "code",
   "execution_count": null,
   "id": "6b52cb40",
   "metadata": {},
   "outputs": [],
   "source": [
    "geo_areas = admin_areas[\"geometry\"].to_crs({'init':'epsg:29902'})"
   ]
  },
  {
   "cell_type": "code",
   "execution_count": null,
   "id": "54e415b1",
   "metadata": {},
   "outputs": [],
   "source": [
    "geo_areas"
   ]
  },
  {
   "cell_type": "code",
   "execution_count": null,
   "id": "02e68405",
   "metadata": {},
   "outputs": [],
   "source": [
    "# topo = tp.Topology(geo_areas, prequantize=False, prevent_oversimplify=False)\n",
    "# topo = tp.Topology(admin_areas[\"geometry\"], prequantize=False)\n",
    "# topo = tp.Topology(admin_areas[\"geometry\"], prequantize=200)"
   ]
  },
  {
   "cell_type": "code",
   "execution_count": null,
   "id": "2a2b9baa",
   "metadata": {},
   "outputs": [],
   "source": [
    "topo = tp.Topology(admin_areas[\"geometry\"], prequantize=False, topology=True)"
   ]
  },
  {
   "cell_type": "code",
   "execution_count": null,
   "id": "0f4907ec",
   "metadata": {},
   "outputs": [],
   "source": [
    "# simple = topo.toposimplify(1).to_gdf()\n",
    "# simple = topo.toposimplify(\n",
    "#     epsilon=4,\n",
    "#     simplify_algorithm='vw', \n",
    "#     simplify_with='simplification', \n",
    "#     prevent_oversimplify=True\n",
    "# )\n",
    "# simple"
   ]
  },
  {
   "cell_type": "code",
   "execution_count": null,
   "id": "5e23a256",
   "metadata": {},
   "outputs": [],
   "source": [
    "# simple = topo.toposimplify(1).to_gdf()"
   ]
  },
  {
   "cell_type": "code",
   "execution_count": null,
   "id": "ac8e58b3",
   "metadata": {},
   "outputs": [],
   "source": [
    "# admin_areas[\"geometry\"] = simple[\"geometry\"].set_crs(epsg=29902, inplace=True)"
   ]
  },
  {
   "cell_type": "code",
   "execution_count": null,
   "id": "9ddff9f7",
   "metadata": {},
   "outputs": [],
   "source": [
    "avian_flu = infected_birds.copy()\n",
    "admin_areas.drop(['GAEILGE', 'PROVINCE', 'GUID', 'CENTROID_X', 'CENTROID_Y', 'AREA', 'CC_ID', 'Shape__Area', 'Shape__Length'], axis='columns', inplace=True)\n",
    "admin_areas.rename(columns = {'CONTAE': 'gaeilge', 'ENGLISH': 'council', 'OBJECTID': 'id'}, inplace = True)\n",
    "admin_areas.columns = map(str.lower, admin_areas.columns)"
   ]
  },
  {
   "cell_type": "code",
   "execution_count": null,
   "id": "0e42dafc-ba91-4ff1-bafe-96fdad6aadc6",
   "metadata": {},
   "outputs": [],
   "source": [
    "admin_areas['council'] = admin_areas['council'].str.title()\n",
    "admin_areas['county'] = admin_areas['county'].str.title()\n",
    "admin_areas['prop_infected'] = admin_areas.apply(lambda row: row.infected_birds / row.total_birds if row.total_birds > 0 else 0, axis = 1)\n",
    "admin_areas['prop_healthy'] = admin_areas.apply(lambda row: row.healthy_birds / row.total_birds if row.total_birds > 0 else 0, axis = 1)\n",
    "admin_areas['label_prop_healthy'] = admin_areas.apply(lambda row: f'{round(row.prop_healthy * 100, 2)}%', axis=1)\n",
    "admin_areas['label_prop_infected'] = admin_areas.apply(lambda row: f'{round(row.prop_infected * 100, 2)}%', axis=1)"
   ]
  },
  {
   "cell_type": "code",
   "execution_count": null,
   "id": "e1b2037c",
   "metadata": {},
   "outputs": [],
   "source": [
    "# Getting Latitude and Longitude Mean to set the initial position of the map\n",
    "mean_latitude = avian_flu['Latitude'].mean()\n",
    "mean_longitude = avian_flu['Longitude'].mean()\n",
    "\n",
    "#map_width, map_height = 700, 700\n",
    "#admin_areas = admin_areas.to_crs({'init': 'epsg:29902'})"
   ]
  },
  {
   "cell_type": "markdown",
   "id": "2474e627",
   "metadata": {},
   "source": [
    "<a id=\"3.1\"></a>\n",
    "## <p style=\"font-size:100%; text-align:left; color:#444444;\">Choropleth map showing the proportion of captured birds targeted with Avian Flu in Ireland</p>"
   ]
  },
  {
   "cell_type": "code",
   "execution_count": null,
   "id": "4ec6bc0a-1866-4182-8e78-12064f605b67",
   "metadata": {},
   "outputs": [],
   "source": [
    "colormap = cm.linear.OrRd_04.to_step(data=admin_areas['prop_infected'], method='quant', quantiles=[0,0.1,0.5,0.9,0.98,1])\n",
    "#colormap = cm.linear.OrRd_03.to_step(data=admin_areas['prop_infected'], method='linear', n=5)\n",
    "#print('Color scale representing the proportion of captured birds targeted with Avian Flu in Ireland.\\n')\n",
    "#colormap"
   ]
  },
  {
   "cell_type": "code",
   "execution_count": null,
   "id": "f625cde9-203c-4c2a-b5d1-1e0f69463326",
   "metadata": {},
   "outputs": [],
   "source": [
    "#fig = folium.Figure(width=850, height=850)\n",
    "mymap = folium.Map(location=[mean_latitude, mean_longitude], zoom_start=7,tiles=None)\n",
    "#.add_to(fig)\n",
    "folium.TileLayer('CartoDB positron',name='Light Map',control=False).add_to(mymap)\n",
    "\n",
    "style_function = lambda x: {'weight':0.5, \n",
    "                            'color':'black',\n",
    "                            'fillColor':colormap(x['properties']['prop_infected']), \n",
    "                            'fillOpacity':0.75}\n",
    "\n",
    "highlight_function = lambda x: {'fillColor': '#000000', \n",
    "                                'color':'#000000', \n",
    "                                'fillOpacity': 0.50, \n",
    "                                'weight': 0.1}\n",
    "\n",
    "choropleth = folium.features.GeoJson(\n",
    "    admin_areas,\n",
    "    style_function=style_function,\n",
    "    control=False,\n",
    "    highlight_function=highlight_function,\n",
    "    tooltip=folium.features.GeoJsonTooltip(fields=['council','county','gaeilge','label_prop_infected'],\n",
    "        aliases=['Council','County','Gaeilge','% of Infected Birds'],\n",
    "        style=('background-color: white; color: #333333; font-family: arial; font-size: 12px; padding: 10px;'),\n",
    "        sticky=True\n",
    "    )\n",
    ")\n",
    "\n",
    "colormap.caption = \"Proportion of Infected Birds on each Council/County\"\n",
    "\n",
    "colormap.add_to(mymap)\n",
    "mymap.add_child(choropleth)\n",
    "mymap"
   ]
  },
  {
   "cell_type": "code",
   "execution_count": null,
   "id": "c93c8f8f",
   "metadata": {},
   "outputs": [],
   "source": [
    "mymap.save('maps/choropleth_map.html')"
   ]
  },
  {
   "cell_type": "code",
   "execution_count": null,
   "id": "348ad227-31c5-4a9c-af36-4d89cc7ed0ff",
   "metadata": {},
   "outputs": [],
   "source": [
    "#roscommon_data = infected_birds[infected_birds['County'] == 'Roscommon']\n",
    "#roscommon_data.groupby('Common_Name').size().sort_values(ascending=False)"
   ]
  },
  {
   "cell_type": "code",
   "execution_count": null,
   "id": "6b189d57-e0fb-4c7b-869c-106b26d61b73",
   "metadata": {},
   "outputs": [],
   "source": [
    "#sligo_data = infected_birds[infected_birds['County'] == 'Sligo']\n",
    "#sligo_data.groupby('Common_Name').size().sort_values(ascending=False)"
   ]
  },
  {
   "cell_type": "code",
   "execution_count": null,
   "id": "76cc9379-270a-4161-a28e-023da0a4ad10",
   "metadata": {},
   "outputs": [],
   "source": [
    "#dublin_data = infected_birds[infected_birds['County'] == 'Dublin']\n",
    "#dublin_data.groupby('Common_Name').size().sort_values(ascending=False)"
   ]
  },
  {
   "cell_type": "code",
   "execution_count": null,
   "id": "38569ebb-3402-40d0-9170-3009f465d36f",
   "metadata": {},
   "outputs": [],
   "source": [
    "# roscommon = admin_areas[admin_areas['county'] == 'Roscommon']\n",
    "# sligo = admin_areas[admin_areas['county'] == 'Sligo']\n",
    "# dublin = admin_areas[admin_areas['county'] == 'Dublin']"
   ]
  },
  {
   "cell_type": "code",
   "execution_count": null,
   "id": "2ddf9ad0-9838-416b-a78a-f7438adb5b07",
   "metadata": {},
   "outputs": [],
   "source": [
    "#roscommon"
   ]
  },
  {
   "cell_type": "code",
   "execution_count": null,
   "id": "be6a27ab-f673-4341-b674-180dd6b30e9d",
   "metadata": {},
   "outputs": [],
   "source": [
    "#dublin"
   ]
  },
  {
   "cell_type": "code",
   "execution_count": null,
   "id": "eda4c585-c51f-4c46-a3fc-86e569799eae",
   "metadata": {},
   "outputs": [],
   "source": [
    "#sligo"
   ]
  },
  {
   "cell_type": "markdown",
   "id": "1e8254a1-7277-4d1d-b191-72981443ba2d",
   "metadata": {},
   "source": [
    "In **Roscommon/Ros Comáin** we see the highest proportion of infected birds and [Mute Swan](https://birdwatchireland.ie/birds/mute-swan/) represents almost half of the birds detected with Avian Flu.\n",
    "\n",
    "Following the counties with the highest proportion is **Sligo/Sligeach** and [Whooper Swan](https://birdwatchireland.ie/birds/whooper-swan/) the species with the highest number. According to BirdWatch's website, Whooper Swan is a winter visitor to wetlands throughout Ireland from October to April. On the other hand, Mute Swan is an Irish resident.\n",
    "\n",
    "In **Dublin/Baile Átha Cliath**, 3 species have the highest rate of infection and all of them are residents:\n",
    "\n",
    "1. [Little Egret](https://birdwatchireland.ie/birds/little-egret/) - Resident along coasts and rivers throughout Ireland, but still scarce in the Midlands and north-west of the country. Little Egret was considered rare in Ireland until it first started breeding here in 1997. It has since expanded and now occurs in almost every coastal county, as well as at many inland sites.\n",
    "2. [Gray Heron](https://birdwatchireland.ie/birds/grey-heron/) - Common resident at wetlands, estuaries and along rivers throughout Ireland.\n",
    "3. [Black-headed Gull](https://birdwatchireland.ie/birds/black-headed-gull/) - Resident along all Irish coasts, with significant numbers arriving from the Continent in winter."
   ]
  },
  {
   "cell_type": "markdown",
   "id": "5dc0722e-bee0-4db8-a3b5-4749f39372a9",
   "metadata": {},
   "source": [
    "<a id=\"3.2\"></a>\n",
    "## <p style=\"font-size:100%; text-align:left; color:#444444;\">Local indicators of spatial correlation - Hot Spot Analysis</p>"
   ]
  },
  {
   "cell_type": "markdown",
   "id": "548c5815-3d73-428d-bf7e-5161c2c764fd",
   "metadata": {},
   "source": [
    "A cluster can be random and, to gather more meaningful information, we can apply hot spot analysis which reveals areas that could unlikely be random.\n",
    "\n",
    "**Hot Spot Analysis** - given a set of weighted features, identifies statistically significant hot spot and cold spots using Getis-Ord G* statistic\n",
    "\n",
    "**Hypothesis** - null hypothesis\n",
    "Complete Spatial Randomness - What are the chances of this pattern is a result of a random spatial process? How likely would it be to get this same pattern base on random chances?\n",
    "\n",
    "> \"...everything is related to everything else, but near things are more related than distant things.\" - The First Law of Geography, according to Waldo Tobler"
   ]
  },
  {
   "cell_type": "code",
   "execution_count": null,
   "id": "0786c4c0-aa37-4b46-bc99-b138980aab88",
   "metadata": {},
   "outputs": [],
   "source": [
    "df = admin_areas\n",
    "wq =  lps.weights.Queen.from_dataframe(df)"
   ]
  },
  {
   "cell_type": "code",
   "execution_count": null,
   "id": "67e240ba-ab13-4531-8a4e-10ac2010cd91",
   "metadata": {},
   "outputs": [],
   "source": [
    "y = df['prop_infected']"
   ]
  },
  {
   "cell_type": "code",
   "execution_count": null,
   "id": "70ba946e-0311-4844-9ee0-9cfcb13ac297",
   "metadata": {},
   "outputs": [],
   "source": [
    "lg = G_Local(y, wq, star=True)"
   ]
  },
  {
   "cell_type": "code",
   "execution_count": null,
   "id": "97c70777",
   "metadata": {},
   "outputs": [],
   "source": [
    "df['Z'] = lg.Zs\n",
    "df['P'] = lg.p_sim"
   ]
  },
  {
   "cell_type": "code",
   "execution_count": null,
   "id": "024998ca",
   "metadata": {},
   "outputs": [],
   "source": [
    "def g_map(g, geog, ax, legend_loc=0):\n",
    "    '''\n",
    "    Create a cluster map\n",
    "    ...\n",
    "    \n",
    "    Arguments\n",
    "    ---------\n",
    "    g      : G_Local\n",
    "             Object from the computation of the G statistic\n",
    "    geog   : GeoDataFrame\n",
    "             Table aligned with values in `g` and containing \n",
    "             the geometries to plot\n",
    "    ax     : AxesSubplot\n",
    "             `matplotlib` axis to draw the map on\n",
    "    legend_loc : legend location\n",
    "\n",
    "    Returns\n",
    "    -------\n",
    "    ax     : AxesSubplot\n",
    "             Axis with the map drawn\n",
    "    '''\n",
    "    ec = '0.8'\n",
    "\n",
    "    # Break observations into significant or not\n",
    "    sig = g.p_sim < 0.05\n",
    "\n",
    "    # Plot non-significant clusters\n",
    "    ns = df.loc[not sig, 'geometry']\n",
    "    ns.plot(ax=ax, color='#bdbdbd', edgecolor=ec, linewidth=0.2)\n",
    "\n",
    "    # Plot HH clusters\n",
    "    hh = df.loc[(g.Zs > 0) & sig, 'geometry']\n",
    "    hh.plot(ax=ax, color='#f03b20', edgecolor=ec, linewidth=0.2)\n",
    "\n",
    "    # Plot LL clusters\n",
    "    ll = df.loc[(g.Zs < 0) & sig, 'geometry']\n",
    "    ll.plot(ax=ax, color='#2c7fb8', edgecolor=ec, linewidth=0.2)\n",
    "\n",
    "    ax.set_title('Getis-Ord G* statistic for % of Infected Birds', size=15)\n",
    "\n",
    "    hotspot_patch = mpatches.Patch(color='#f03b20', label='hot spot')\n",
    "    coldspot_patch = mpatches.Patch(color='#2c7fb8', label='cold spot')\n",
    "    nsig_patch = mpatches.Patch(color='#bdbdbd', label='not significant')\n",
    "\n",
    "    plt.legend(handles=[hotspot_patch, coldspot_patch, nsig_patch], loc=legend_loc, facecolor='#F6F6F2', \n",
    "          edgecolor='#444444', borderpad=0.7)\n",
    "\n",
    "    plt.annotate('Sligo', xy=(-8.7, 54.2), xytext=(-9.2, 55.1), \n",
    "             arrowprops=dict(facecolor='#444444',arrowstyle=\"->\",connectionstyle=\"angle3,angleA=90,angleB=0\"), \n",
    "             fontsize=10,fontfamily='serif',ha='center', color='#f03b20')\n",
    "\n",
    "    plt.annotate('Mayo', xy=(-9.3, 54), xytext=(-10, 54.5), \n",
    "             arrowprops=dict(facecolor='#444444',arrowstyle=\"->\",connectionstyle=\"angle3,angleA=90,angleB=0\"), \n",
    "             fontsize=10,fontfamily='serif',ha='center', color='#f03b20')\n",
    "\n",
    "    plt.annotate('Longford', xy=(-7.8, 53.8), xytext=(-6.5, 54.7), \n",
    "             arrowprops=dict(facecolor='#444444',arrowstyle=\"->\",connectionstyle=\"angle3,angleA=0,angleB=90\"), \n",
    "             fontsize=10,fontfamily='serif',ha='center', color='#f03b20')\n",
    "\n",
    "    ax.set_axis_off()\n",
    "    return ax"
   ]
  },
  {
   "cell_type": "code",
   "execution_count": null,
   "id": "29b50643",
   "metadata": {},
   "outputs": [],
   "source": [
    "# Setup figure and axes\n",
    "fig, ax = plt.subplots(1,1, figsize=(8, 8),dpi=150)\n",
    "ax = g_map(lg, df, ax, 4)\n",
    "# Render\n",
    "plt.show()"
   ]
  },
  {
   "cell_type": "code",
   "execution_count": null,
   "id": "7c22536f",
   "metadata": {},
   "outputs": [],
   "source": [
    "# Sligo - Z = 2.853354 / p-value = 0.017\n",
    "# Mayo - Z = 2.175596 / p-value = 0.025\n",
    "# Longford - Z = 1.563024 / p-value = 0.031"
   ]
  },
  {
   "cell_type": "code",
   "execution_count": null,
   "id": "9097299b",
   "metadata": {},
   "outputs": [],
   "source": [
    "hotspots = df[(df['P'] < 0.05) & (df['Z'] > 0)]\n",
    "coldspots = df[(df['P'] < 0.05) & (df['Z'] < 0)]\n",
    "#hotspots"
   ]
  },
  {
   "cell_type": "markdown",
   "id": "fa909c37",
   "metadata": {},
   "source": [
    "**z = standardized G statistic in Getis & Ord (1992)**\n",
    "\n",
    "**p-value < 0.05 - statistically significant**\n",
    "\n",
    "### Hot Spots\n",
    "- Sligo / Sligeach ( z = 1.353464 / p-value = 0.033 ) \n",
    "- Mayo / Maigh Eo ( z = 1.031976 / p-value = 0.020 )\n",
    "- Longford / An Longfort ( z = 0.650739 / p-value = 0.028 )\n",
    "\n",
    "### Cold Spots\n",
    "- Laois / Laois ( z = -0.764141 / p-value = 0.018 )\n",
    "- Carlow / Ceatharlach ( z = -0.675114 / p-value = 0.016 )\n",
    "- Kilkenny / Cill Chainnigh ( z = -0.662391 / p-value = 0.035 )\n",
    "- Louth / Lú ( z = -0.411557 / p-value = 0.019 )"
   ]
  },
  {
   "cell_type": "markdown",
   "id": "5e2f30f4",
   "metadata": {},
   "source": [
    "<a id=\"4\"></a>\n",
    "# <p style=\"font-size:100%; text-align:left; color:#444444;\">4- Conclusion</p>"
   ]
  },
  {
   "cell_type": "markdown",
   "id": "10180317-e77f-4620-83f5-3a8a52207a80",
   "metadata": {},
   "source": [
    "The data shows that despite the concern about migrant wild birds carrying the \"Bird Flu\" virus being a potential pandemic threat, resident species have shown the highest number of infections which indicates there is a high risk of possible Bird Flu outbreaks in Ireland.\n",
    "\n",
    "November and December are the months that need extra attention as stated by Ireland's Department of Agriculture, Food and the Marine but, even during the summer (June and August), the presence of infected birds was detected with high rates of infection among captured birds.\n",
    "\n",
    "After reaching a peak of infection rate in 2015, the infection rate has presented stable between 14% and 18% from 2016 to 2019.\n",
    "\n",
    "Although Sligo/Sligeach and Roscommon/Ros Comáin have presented the highest rate of infections, 3 counties were marked as hot spots, and especially Sligo and Mayo could be considered possible entering routes for the disease."
   ]
  },
  {
   "cell_type": "markdown",
   "id": "4012a1a6",
   "metadata": {},
   "source": [
    "---\n",
    "<img title=\"GitHub Mark\" src=\"./img/GitHub-Mark-64px.png\" style=\"height: 32px; padding-right: 15px\" alt=\"GitHub Mark\" align=\"left\"> [GitHub repository](https://github.com/pessini/avian-flu-wild-birds-ireland) <br>Author: Leandro Pessini"
   ]
  }
 ],
 "metadata": {
  "hide_input": false,
  "kernelspec": {
   "display_name": "Python 3.9.6 (conda)",
   "language": "python",
   "name": "python3"
  },
  "language_info": {
   "codemirror_mode": {
    "name": "ipython",
    "version": 3
   },
   "file_extension": ".py",
   "mimetype": "text/x-python",
   "name": "python",
   "nbconvert_exporter": "python",
   "pygments_lexer": "ipython3",
   "version": "3.9.6"
  },
  "metadata": {
   "interpreter": {
    "hash": "31f2aee4e71d21fbe5cf8b01ff0e069b9275f58929596ceb00d14d90e3e16cd6"
   }
  },
  "vscode": {
   "interpreter": {
    "hash": "442caf698816085def817bbec206668e9c7f2e277ef76e9f600558b0fd542bd1"
   }
  }
 },
 "nbformat": 4,
 "nbformat_minor": 5
}
