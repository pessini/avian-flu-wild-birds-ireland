{
 "cells": [
  {
   "cell_type": "code",
   "execution_count": 1,
   "metadata": {},
   "outputs": [],
   "source": [
    "# Libraries\n",
    "import warnings\n",
    "warnings.simplefilter(action='ignore', category=FutureWarning)\n",
    "\n",
    "import numpy as np\n",
    "import pandas as pd\n",
    "import seaborn as sns\n",
    "import matplotlib\n",
    "import matplotlib.pyplot as plt\n",
    "import matplotlib.lines as lines\n",
    "from matplotlib.lines import Line2D\n",
    "from matplotlib import cm\n",
    "import matplotlib.ticker as mtick\n",
    "from matplotlib.offsetbox import AnnotationBbox, OffsetImage\n",
    "import matplotlib.patches as mpatches\n",
    "\n",
    "%matplotlib inline\n",
    "\n",
    "pd.options.mode.chained_assignment = None  # default='warn'"
   ]
  },
  {
   "cell_type": "markdown",
   "metadata": {},
   "source": [
    "## 2021 Ireland official Wild birds avian influenza test results\n",
    "\n",
    "Avian influenza PCR test results of wild birds sampled in Ireland over the period Jan 2021 to Dec 2021. When possible, further virus typing of H and N antigens in positive samples recorded. Wild bird species, tissue(s) sampled and approximate location of wild bird discovery also recorded.\n",
    "\n",
    "> https://data.gov.ie/dataset/2021-ireland-official-wild-birds-avian-influenza-test-results\n",
    "\n",
    "> https://www.gov.ie/en/publication/27c1b-avian-influenza-bird-flu-statistics/"
   ]
  },
  {
   "cell_type": "code",
   "execution_count": 2,
   "metadata": {},
   "outputs": [],
   "source": [
    "# Loading dataset\n",
    "bird_flu = pd.read_excel('data/237231_9c2bc8b5-dc06-44b9-a112-759029fd7704.xlsx')"
   ]
  },
  {
   "cell_type": "code",
   "execution_count": 3,
   "metadata": {},
   "outputs": [
    {
     "data": {
      "text/html": [
       "<div>\n",
       "<style scoped>\n",
       "    .dataframe tbody tr th:only-of-type {\n",
       "        vertical-align: middle;\n",
       "    }\n",
       "\n",
       "    .dataframe tbody tr th {\n",
       "        vertical-align: top;\n",
       "    }\n",
       "\n",
       "    .dataframe thead th {\n",
       "        text-align: right;\n",
       "    }\n",
       "</style>\n",
       "<table border=\"1\" class=\"dataframe\">\n",
       "  <thead>\n",
       "    <tr style=\"text-align: right;\">\n",
       "      <th></th>\n",
       "      <th>progId</th>\n",
       "      <th>progType</th>\n",
       "      <th>sampMethod</th>\n",
       "      <th>progInfo_targetGroup</th>\n",
       "      <th>sampEventId</th>\n",
       "      <th>sampArea</th>\n",
       "      <th>sampDate</th>\n",
       "      <th>sampYear</th>\n",
       "      <th>sampMonth</th>\n",
       "      <th>sampDay</th>\n",
       "      <th>...</th>\n",
       "      <th>sampMatCode_source</th>\n",
       "      <th>sampMatCode_part</th>\n",
       "      <th>labId</th>\n",
       "      <th>paramType</th>\n",
       "      <th>paramCode_param</th>\n",
       "      <th>paramCode_antH</th>\n",
       "      <th>paramCode_antN</th>\n",
       "      <th>anMethCode</th>\n",
       "      <th>resId</th>\n",
       "      <th>resQualValue</th>\n",
       "    </tr>\n",
       "  </thead>\n",
       "  <tbody>\n",
       "    <tr>\n",
       "      <th>0</th>\n",
       "      <td>EU_WildBird</td>\n",
       "      <td>Surveillance passive</td>\n",
       "      <td>Individual</td>\n",
       "      <td>Found dead</td>\n",
       "      <td>PV21-000976</td>\n",
       "      <td>Westmeath</td>\n",
       "      <td>2021-01-18</td>\n",
       "      <td>2021</td>\n",
       "      <td>1</td>\n",
       "      <td>18</td>\n",
       "      <td>...</td>\n",
       "      <td>Pigeon</td>\n",
       "      <td>Tissue-Pool</td>\n",
       "      <td>ARVL</td>\n",
       "      <td>Individual</td>\n",
       "      <td>Influenza A virus</td>\n",
       "      <td>NaN</td>\n",
       "      <td>NaN</td>\n",
       "      <td>Real-time RT PCR</td>\n",
       "      <td>40893</td>\n",
       "      <td>No RNA detected</td>\n",
       "    </tr>\n",
       "    <tr>\n",
       "      <th>1</th>\n",
       "      <td>EU_WildBird</td>\n",
       "      <td>Surveillance passive</td>\n",
       "      <td>Individual</td>\n",
       "      <td>Found dead</td>\n",
       "      <td>PV21-000977</td>\n",
       "      <td>Westmeath</td>\n",
       "      <td>2021-01-18</td>\n",
       "      <td>2021</td>\n",
       "      <td>1</td>\n",
       "      <td>18</td>\n",
       "      <td>...</td>\n",
       "      <td>Pigeon</td>\n",
       "      <td>Intestine</td>\n",
       "      <td>ARVL</td>\n",
       "      <td>Individual</td>\n",
       "      <td>Influenza A virus</td>\n",
       "      <td>NaN</td>\n",
       "      <td>NaN</td>\n",
       "      <td>Real-time RT PCR</td>\n",
       "      <td>40894</td>\n",
       "      <td>No RNA detected</td>\n",
       "    </tr>\n",
       "    <tr>\n",
       "      <th>2</th>\n",
       "      <td>EU_WildBird</td>\n",
       "      <td>Surveillance passive</td>\n",
       "      <td>Individual</td>\n",
       "      <td>Found dead</td>\n",
       "      <td>PV21-000978</td>\n",
       "      <td>Westmeath</td>\n",
       "      <td>2021-01-18</td>\n",
       "      <td>2021</td>\n",
       "      <td>1</td>\n",
       "      <td>18</td>\n",
       "      <td>...</td>\n",
       "      <td>Pigeon</td>\n",
       "      <td>Brain</td>\n",
       "      <td>ARVL</td>\n",
       "      <td>Individual</td>\n",
       "      <td>Influenza A virus</td>\n",
       "      <td>NaN</td>\n",
       "      <td>NaN</td>\n",
       "      <td>Real-time RT PCR</td>\n",
       "      <td>40895</td>\n",
       "      <td>No RNA detected</td>\n",
       "    </tr>\n",
       "    <tr>\n",
       "      <th>3</th>\n",
       "      <td>EU_WildBird</td>\n",
       "      <td>Surveillance passive</td>\n",
       "      <td>Individual</td>\n",
       "      <td>Found dead</td>\n",
       "      <td>PV21-001705</td>\n",
       "      <td>Westmeath</td>\n",
       "      <td>2021-01-20</td>\n",
       "      <td>2021</td>\n",
       "      <td>1</td>\n",
       "      <td>20</td>\n",
       "      <td>...</td>\n",
       "      <td>Black-Headed Gull</td>\n",
       "      <td>Intestine</td>\n",
       "      <td>ARVL</td>\n",
       "      <td>Individual</td>\n",
       "      <td>Influenza A virus</td>\n",
       "      <td>NaN</td>\n",
       "      <td>NaN</td>\n",
       "      <td>Real-time RT PCR</td>\n",
       "      <td>40896</td>\n",
       "      <td>No RNA detected</td>\n",
       "    </tr>\n",
       "    <tr>\n",
       "      <th>4</th>\n",
       "      <td>EU_WildBird</td>\n",
       "      <td>Surveillance passive</td>\n",
       "      <td>Individual</td>\n",
       "      <td>Found dead</td>\n",
       "      <td>PV21-001706</td>\n",
       "      <td>Westmeath</td>\n",
       "      <td>2021-01-20</td>\n",
       "      <td>2021</td>\n",
       "      <td>1</td>\n",
       "      <td>20</td>\n",
       "      <td>...</td>\n",
       "      <td>Black-Headed Gull</td>\n",
       "      <td>Brain</td>\n",
       "      <td>ARVL</td>\n",
       "      <td>Individual</td>\n",
       "      <td>Influenza A virus</td>\n",
       "      <td>NaN</td>\n",
       "      <td>NaN</td>\n",
       "      <td>Real-time RT PCR</td>\n",
       "      <td>40897</td>\n",
       "      <td>No RNA detected</td>\n",
       "    </tr>\n",
       "  </tbody>\n",
       "</table>\n",
       "<p>5 rows × 23 columns</p>\n",
       "</div>"
      ],
      "text/plain": [
       "        progId              progType  sampMethod progInfo_targetGroup  \\\n",
       "0  EU_WildBird  Surveillance passive  Individual           Found dead   \n",
       "1  EU_WildBird  Surveillance passive  Individual           Found dead   \n",
       "2  EU_WildBird  Surveillance passive  Individual           Found dead   \n",
       "3  EU_WildBird  Surveillance passive  Individual           Found dead   \n",
       "4  EU_WildBird  Surveillance passive  Individual           Found dead   \n",
       "\n",
       "   sampEventId   sampArea    sampDate  sampYear  sampMonth  sampDay  ...  \\\n",
       "0  PV21-000976  Westmeath  2021-01-18      2021          1       18  ...   \n",
       "1  PV21-000977  Westmeath  2021-01-18      2021          1       18  ...   \n",
       "2  PV21-000978  Westmeath  2021-01-18      2021          1       18  ...   \n",
       "3  PV21-001705  Westmeath  2021-01-20      2021          1       20  ...   \n",
       "4  PV21-001706  Westmeath  2021-01-20      2021          1       20  ...   \n",
       "\n",
       "   sampMatCode_source  sampMatCode_part labId   paramType    paramCode_param  \\\n",
       "0              Pigeon       Tissue-Pool  ARVL  Individual  Influenza A virus   \n",
       "1              Pigeon         Intestine  ARVL  Individual  Influenza A virus   \n",
       "2              Pigeon             Brain  ARVL  Individual  Influenza A virus   \n",
       "3   Black-Headed Gull         Intestine  ARVL  Individual  Influenza A virus   \n",
       "4   Black-Headed Gull             Brain  ARVL  Individual  Influenza A virus   \n",
       "\n",
       "  paramCode_antH paramCode_antN        anMethCode  resId     resQualValue  \n",
       "0            NaN            NaN  Real-time RT PCR  40893  No RNA detected  \n",
       "1            NaN            NaN  Real-time RT PCR  40894  No RNA detected  \n",
       "2            NaN            NaN  Real-time RT PCR  40895  No RNA detected  \n",
       "3            NaN            NaN  Real-time RT PCR  40896  No RNA detected  \n",
       "4            NaN            NaN  Real-time RT PCR  40897  No RNA detected  \n",
       "\n",
       "[5 rows x 23 columns]"
      ]
     },
     "execution_count": 3,
     "metadata": {},
     "output_type": "execute_result"
    }
   ],
   "source": [
    "bird_flu.head()"
   ]
  },
  {
   "cell_type": "code",
   "execution_count": 4,
   "metadata": {},
   "outputs": [
    {
     "data": {
      "text/plain": [
       "No RNA detected    296\n",
       "Negative           242\n",
       "Positive           144\n",
       "Name: resQualValue, dtype: int64"
      ]
     },
     "execution_count": 4,
     "metadata": {},
     "output_type": "execute_result"
    }
   ],
   "source": [
    "bird_flu['resQualValue'].value_counts()"
   ]
  },
  {
   "cell_type": "code",
   "execution_count": 27,
   "metadata": {},
   "outputs": [
    {
     "name": "stdout",
     "output_type": "stream",
     "text": [
      "<class 'pandas.core.frame.DataFrame'>\n",
      "Int64Index: 144 entries, 6 to 681\n",
      "Data columns (total 23 columns):\n",
      " #   Column                Non-Null Count  Dtype  \n",
      "---  ------                --------------  -----  \n",
      " 0   progId                144 non-null    object \n",
      " 1   progType              144 non-null    object \n",
      " 2   sampMethod            144 non-null    object \n",
      " 3   progInfo_targetGroup  144 non-null    object \n",
      " 4   sampEventId           144 non-null    object \n",
      " 5   sampArea              144 non-null    object \n",
      " 6   sampDate              144 non-null    object \n",
      " 7   sampYear              144 non-null    int64  \n",
      " 8   sampMonth             144 non-null    int64  \n",
      " 9   sampDay               144 non-null    int64  \n",
      " 10  sampInfo_latitude     144 non-null    float64\n",
      " 11  sampInfo_longitude    144 non-null    float64\n",
      " 12  sampMatCode_base      144 non-null    object \n",
      " 13  sampMatCode_source    144 non-null    object \n",
      " 14  sampMatCode_part      144 non-null    object \n",
      " 15  labId                 144 non-null    object \n",
      " 16  paramType             144 non-null    object \n",
      " 17  paramCode_param       144 non-null    object \n",
      " 18  paramCode_antH        144 non-null    object \n",
      " 19  paramCode_antN        144 non-null    object \n",
      " 20  anMethCode            144 non-null    object \n",
      " 21  resId                 144 non-null    int64  \n",
      " 22  resQualValue          144 non-null    object \n",
      "dtypes: float64(2), int64(4), object(17)\n",
      "memory usage: 27.0+ KB\n"
     ]
    }
   ],
   "source": [
    "infected_birds = bird_flu[bird_flu['resQualValue'] == 'Positive']\n",
    "infected_birds.info()"
   ]
  },
  {
   "cell_type": "code",
   "execution_count": 28,
   "metadata": {},
   "outputs": [
    {
     "data": {
      "text/plain": [
       "sampMatCode_source\n",
       "Whooper Swan           53\n",
       "Mute Swan              36\n",
       "Greylag Goose          25\n",
       "Knots                   6\n",
       "Peregrine               6\n",
       "Herring Gull            4\n",
       "Brent Goose             3\n",
       "Crow                    3\n",
       "Magpie                  3\n",
       "White-tailed  Eagle     2\n",
       "Kestrel                 1\n",
       "Merlin                  1\n",
       "Water Rail              1\n",
       "Name: sampMatCode_source, dtype: int64"
      ]
     },
     "execution_count": 28,
     "metadata": {},
     "output_type": "execute_result"
    }
   ],
   "source": [
    "infected_birds.groupby('sampMatCode_source')['sampMatCode_source'].count().sort_values(ascending=False)"
   ]
  },
  {
   "cell_type": "code",
   "execution_count": 31,
   "metadata": {},
   "outputs": [
    {
     "data": {
      "text/plain": [
       "<AxesSubplot:title={'center':'Number of infected birds by species'}, ylabel='sampMatCode_source'>"
      ]
     },
     "execution_count": 31,
     "metadata": {},
     "output_type": "execute_result"
    },
    {
     "data": {
      "image/png": "[encoded data removed]",
      "text/plain": [
       "<Figure size 720x360 with 1 Axes>"
      ]
     },
     "metadata": {
      "needs_background": "light"
     },
     "output_type": "display_data"
    }
   ],
   "source": [
    "infected_birds.groupby('sampMatCode_source')['sampMatCode_source'].count().sort_values(ascending=True)\\\n",
    "    .plot(kind='barh', figsize=(10, 5), title='Number of infected birds by species')"
   ]
  },
  {
   "cell_type": "code",
   "execution_count": 14,
   "metadata": {},
   "outputs": [
    {
     "data": {
      "text/plain": [
       "sampArea\n",
       "Donegal      35\n",
       "Offaly       23\n",
       "Tipperary    22\n",
       "Wexford      19\n",
       "Cavan         6\n",
       "Louth         6\n",
       "Roscommon     6\n",
       "Galway        5\n",
       "Waterford     5\n",
       "Kerry         4\n",
       "Cork          3\n",
       "Kildare       3\n",
       "Mayo          3\n",
       "Clare         2\n",
       "Dublin        1\n",
       "Longford      1\n",
       "Name: sampArea, dtype: int64"
      ]
     },
     "execution_count": 14,
     "metadata": {},
     "output_type": "execute_result"
    }
   ],
   "source": [
    "infected_birds.groupby('sampArea')['sampArea'].count()\\\n",
    "    .sort_values(ascending=False)"
   ]
  },
  {
   "cell_type": "code",
   "execution_count": 18,
   "metadata": {},
   "outputs": [
    {
     "data": {
      "text/plain": [
       "<AxesSubplot:title={'center':'Number of infected birds by county'}, ylabel='sampArea'>"
      ]
     },
     "execution_count": 18,
     "metadata": {},
     "output_type": "execute_result"
    },
    {
     "data": {
      "image/png": "[encoded data removed]",
      "text/plain": [
       "<Figure size 720x360 with 1 Axes>"
      ]
     },
     "metadata": {
      "needs_background": "light"
     },
     "output_type": "display_data"
    }
   ],
   "source": [
    "infected_birds.groupby('sampArea')['sampArea'].count()\\\n",
    "    .sort_values(ascending=True)\\\n",
    "    .plot(kind='barh', figsize=(10, 5), color='#004D44', title='Number of infected birds by county')"
   ]
  },
  {
   "cell_type": "code",
   "execution_count": 22,
   "metadata": {},
   "outputs": [
    {
     "data": {
      "text/plain": [
       "sampMonth\n",
       "1      17\n",
       "2       2\n",
       "7       3\n",
       "10      3\n",
       "11    119\n",
       "Name: sampMonth, dtype: int64"
      ]
     },
     "execution_count": 22,
     "metadata": {},
     "output_type": "execute_result"
    }
   ],
   "source": [
    "infected_birds.groupby('sampMonth')['sampMonth'].count()"
   ]
  }
 ],
 "metadata": {
  "kernelspec": {
   "display_name": "Python 3.9.6 (conda)",
   "language": "python",
   "name": "python3"
  },
  "language_info": {
   "codemirror_mode": {
    "name": "ipython",
    "version": 3
   },
   "file_extension": ".py",
   "mimetype": "text/x-python",
   "name": "python",
   "nbconvert_exporter": "python",
   "pygments_lexer": "ipython3",
   "version": "3.9.6"
  },
  "orig_nbformat": 4,
  "vscode": {
   "interpreter": {
    "hash": "442caf698816085def817bbec206668e9c7f2e277ef76e9f600558b0fd542bd1"
   }
  }
 },
 "nbformat": 4,
 "nbformat_minor": 2
}
